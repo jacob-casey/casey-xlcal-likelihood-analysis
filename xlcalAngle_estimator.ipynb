{
 "cells": [
  {
   "cell_type": "code",
   "execution_count": 4,
   "id": "02012272-c775-4c6c-9b1c-68564f37278f",
   "metadata": {},
   "outputs": [],
   "source": [
    "import ROOT\n",
    "%jsroot on\n",
    "ROOT.PyConfig.DisableRootLogon = True\n",
    "ROOT.PyConfig.IgnoreCommandLineOptions = False\n",
    "import numpy as np\n",
    " \n",
    "from __future__ import print_function\n",
    "from ROOT import TCanvas, TGraph\n",
    "from ROOT import gROOT\n",
    "from math import sin\n",
    "from array import array\n",
    "from ROOT import TFile\n",
    "import ROOT as r\n",
    "import matplotlib.pyplot as plt\n",
    "import matplotlib as mpl\n",
    "import pandas as pd\n",
    "\n",
    "%matplotlib inline"
   ]
  },
  {
   "cell_type": "raw",
   "id": "e5f45a4a-d1bf-4e4a-89b2-dad970404a6a",
   "metadata": {},
   "source": [
    "fFile = TFile.Open(\"/home/jacob/data/typ2_ptsrc_pf100_pa110_seed45.root\")\n",
    "fTree = fFile.Get(\"tree\")\n",
    "fTree.GetEntries()\n",
    "\n",
    "print(fTree.GetEntries())\n",
    "print(fTree)\n",
    "c = TCanvas(\"\",\"\",500,500)\n",
    "fHist = r.TGraph(fTree.primary_y,fTree.primary_x)\n",
    "#for event in fTree:\n",
    "#    fHist.Fill(fTree.time,fTree.phi)\n",
    "fHist.SetFillColor(7)\n",
    "fHist.Draw('colz')\n",
    "c.Draw('hist')\n",
    "#fileName = \n",
    "#treeName = \"tree\"\n",
    "#fill_tree(treeName, fileName)\n",
    "#c.SaveAs('/home/jacob/notebooks/PSFLocation.pdf')\n"
   ]
  },
  {
   "cell_type": "code",
   "execution_count": null,
   "id": "9ff10490-6180-44ba-b29c-7d9014b36c32",
   "metadata": {},
   "outputs": [],
   "source": [
    "root_file_path =\"/home/jacob/data/typ2_ptsrc_pf100_pa110_seed45.root\" \n",
    "df = r.RDataFrame('tree',root_file_path)\n",
    "d1 = df.Display([\"time\",\"rotationangle\",'phi'])\n",
    "d1.Print()\n",
    "\n",
    "import pandas as pd\n",
    "#column1 = [\"time\",\"rotationangle\",'rotatedphi']\n",
    "column2 = ['primary_polx','primary_poly']\n",
    "column3 = ['theta']\n",
    "column4= ['phi','rotatedphi']\n",
    "pddf = pd.DataFrame(df.AsNumpy(columns=column4))\n",
    "pddf\n",
    "#pddf.to_csv('/home/jacob/notebooks/PSFLoactions.csv',sep=',',header=True,mode='w',index=False)"
   ]
  },
  {
   "cell_type": "raw",
   "id": "63ef72e8-8d0c-4ca8-9adb-5f0343509de8",
   "metadata": {},
   "source": [
    "column1 = [\"time\",\"rotationangle\",'rotatedphi']\n",
    "time_rotation = pd.DataFrame(df.AsNumpy(columns=column1))\n",
    "time_rotation.iloc[0:500000].plot(kind='scatter',x='time',y='rotationangle')"
   ]
  },
  {
   "cell_type": "raw",
   "id": "03350e60-56c7-4c39-b6ac-e43ac25ad9a9",
   "metadata": {},
   "source": [
    "#pddf.iloc[0:500000].plot.hist(column=[\"rotatedphi\"],by='rotatedphi',bins=100)\n",
    "plt.hist(pddf['primary_poly'],bins=50)\n",
    "plt.xlabel('primary_polx')\n",
    "plt.ylabel('frequency')"
   ]
  },
  {
   "cell_type": "raw",
   "id": "c8bd0ee6-3344-4325-86ac-a5f0b27c64b1",
   "metadata": {},
   "source": [
    "plt.hist(pddf['theta'],bins=50)\n",
    "plt.xlabel('theta')\n",
    "plt.ylabel('frequency')"
   ]
  },
  {
   "cell_type": "code",
   "execution_count": null,
   "id": "edfba001-a670-48ca-9bdd-207736daad26",
   "metadata": {},
   "outputs": [],
   "source": [
    "plt.hist(pddf['phi'],bins=50)\n",
    "plt.xlabel('phi')\n",
    "plt.ylabel('frequency')"
   ]
  },
  {
   "cell_type": "code",
   "execution_count": null,
   "id": "ced70591-4246-45c7-a06e-173f372379dd",
   "metadata": {},
   "outputs": [],
   "source": [
    "PulseP = np.histogram(pddf['phi'],bins=100)\n",
    "Counts = PulseP[0]\n",
    "P = []\n",
    "\n",
    "CenterofBins = (PulseP[1][:-1] + PulseP[1][1:])/2\n",
    "    \n",
    "plt.figure()\n",
    "plt.errorbar(CenterofBins*180/np.pi,PulseP[0],yerr = np.sqrt(PulseP[0]),fmt='o',markersize=2)\n",
    "plt.xlabel('Phi')\n",
    "plt.ylabel('COUNTS')\n",
    "#scatter normal to the PA, +180 to get symmetry\n",
    "plt.vlines(45+90,PulseP[0].min(),PulseP[0].max(),color='grey',label='scattered phi, PA+90,270')\n",
    "plt.vlines(45+90+180,PulseP[0].min(),PulseP[0].max(),color='grey')\n",
    "\n",
    "plt.vlines(45,PulseP[0].min(),PulseP[0].max(),color='green',label='PA')\n",
    "plt.vlines(45+180,PulseP[0].min(),PulseP[0].max(),color='red',label='PA+180')\n",
    "plt.legend()"
   ]
  },
  {
   "cell_type": "code",
   "execution_count": 2,
   "id": "c7e2f58f-d82a-4138-b41a-ae329ad6f1bb",
   "metadata": {},
   "outputs": [
    {
     "ename": "NameError",
     "evalue": "name 'pddf' is not defined",
     "output_type": "error",
     "traceback": [
      "\u001b[0;31m---------------------------------------------------------------------------\u001b[0m",
      "\u001b[0;31mNameError\u001b[0m                                 Traceback (most recent call last)",
      "Cell \u001b[0;32mIn[2], line 15\u001b[0m\n\u001b[1;32m     13\u001b[0m probability_error \u001b[38;5;241m=\u001b[39m []\n\u001b[1;32m     14\u001b[0m \u001b[38;5;28;01mfor\u001b[39;00m i \u001b[38;5;129;01min\u001b[39;00m \u001b[38;5;28mrange\u001b[39m(\u001b[38;5;28mlen\u001b[39m(angles)):\n\u001b[0;32m---> 15\u001b[0m     prob,prob_error \u001b[38;5;241m=\u001b[39m find_probabilities(angles[i],angles[i]\u001b[38;5;241m+\u001b[39mangle_step_rad,\u001b[43mpddf\u001b[49m)\n\u001b[1;32m     16\u001b[0m     probabilities \u001b[38;5;241m=\u001b[39m np\u001b[38;5;241m.\u001b[39mappend(probabilities,prob)\n\u001b[1;32m     17\u001b[0m     probability_error \u001b[38;5;241m=\u001b[39m np\u001b[38;5;241m.\u001b[39mappend(probability_error,prob_error)\n",
      "\u001b[0;31mNameError\u001b[0m: name 'pddf' is not defined"
     ]
    }
   ],
   "source": [
    "degree_to_rad = np.pi/180\n",
    "angle_step_degree = 10\n",
    "\n",
    "angle_step_rad = angle_step_degree * degree_to_rad\n",
    "angles = np.arange(0,2*np.pi,angle_step_rad)\n",
    "def find_probabilities(angle_min,angle_max,data_frame):\n",
    "    counts = len(data_frame.loc[data_frame['phi'].between(angle_min,angle_max)])\n",
    "    total_counts = len(data_frame)\n",
    "    probability = counts/total_counts\n",
    "    prob_error = np.sqrt(((np.sqrt(counts)/counts)**2)+((np.sqrt(total_counts)/total_counts)**2))*(probability*100)\n",
    "    return probability,prob_error\n",
    "probabilities = []\n",
    "probability_error = []\n",
    "for i in range(len(angles)):\n",
    "    prob,prob_error = find_probabilities(angles[i],angles[i]+angle_step_rad,pddf)\n",
    "    probabilities = np.append(probabilities,prob)\n",
    "    probability_error = np.append(probability_error,prob_error)\n",
    "print(probabilities*100,probability_error*100)\n",
    "\n",
    "probs_dataframe = pd.DataFrame()\n",
    "probs_dataframe['probs'] = probabilities\n",
    "probs_dataframe['phi'] = angles+(angle_step_rad/2)\n",
    "\n",
    "plt.errorbar(probs_dataframe['phi'],probs_dataframe['probs']*100,yerr=probability_error*100,fmt='o',markersize=4)\n",
    "plt.ylabel('Probability [%]')\n",
    "plt.xlabel('Phi [radians]')"
   ]
  },
  {
   "cell_type": "raw",
   "id": "1a6b1df2-e25b-407a-ac05-40ed3367780d",
   "metadata": {},
   "source": [
    "pddf = pd.DataFrame(df.AsNumpy(columns=['primary_x','primary_y']))\n",
    "\n",
    "plt.hist2d(pddf['primary_x'],pddf['primary_y'],bins=100,norm=mpl.colors.LogNorm())"
   ]
  },
  {
   "cell_type": "code",
   "execution_count": 5,
   "id": "952358c1-2305-4018-a652-8072801cce84",
   "metadata": {},
   "outputs": [
    {
     "name": "stderr",
     "output_type": "stream",
     "text": [
      "/tmp/ipykernel_390669/2933731486.py:53: RuntimeWarning: divide by zero encountered in scalar divide\n",
      "  if detectors['xi']['top_detector']<=((y_-10)/np.tan(i*degree_to_rad))+10<= detectors['xf']['top_detector'] and (0<=i<=180):\n",
      "/tmp/ipykernel_390669/2933731486.py:60: RuntimeWarning: divide by zero encountered in scalar divide\n",
      "  if detectors['xi']['bottom_detector']<=((y_-10)/np.tan(i*degree_to_rad))+10<= detectors['xf']['bottom_detector'] and (180 <= i):\n"
     ]
    },
    {
     "data": {
      "text/html": [
       "<div>\n",
       "<style scoped>\n",
       "    .dataframe tbody tr th:only-of-type {\n",
       "        vertical-align: middle;\n",
       "    }\n",
       "\n",
       "    .dataframe tbody tr th {\n",
       "        vertical-align: top;\n",
       "    }\n",
       "\n",
       "    .dataframe thead th {\n",
       "        text-align: right;\n",
       "    }\n",
       "</style>\n",
       "<table border=\"1\" class=\"dataframe\">\n",
       "  <thead>\n",
       "    <tr style=\"text-align: right;\">\n",
       "      <th></th>\n",
       "      <th>theta</th>\n",
       "      <th>detector</th>\n",
       "    </tr>\n",
       "  </thead>\n",
       "  <tbody>\n",
       "    <tr>\n",
       "      <th>320</th>\n",
       "      <td>320</td>\n",
       "      <td>right_detector</td>\n",
       "    </tr>\n",
       "  </tbody>\n",
       "</table>\n",
       "</div>"
      ],
      "text/plain": [
       "     theta        detector\n",
       "320    320  right_detector"
      ]
     },
     "metadata": {},
     "output_type": "display_data"
    },
    {
     "data": {
      "image/png": "[encoded data removed]",
      "text/plain": [
       "<Figure size 500x500 with 1 Axes>"
      ]
     },
     "metadata": {},
     "output_type": "display_data"
    }
   ],
   "source": [
    "number_of_segments = 2\n",
    "\n",
    "size_of_detector = 20#in mm\n",
    "# [xi,yi,xf,yf]\n",
    "\n",
    "detectors = pd.DataFrame(columns = ['xi','yi','xf','yf'],index=['top_detector','right_detector','bottom_detector','left_detector'])\n",
    "\n",
    "detectors.loc['top_detector'] = [1,0,size_of_detector+1,0] #top detector\n",
    "\n",
    "detectors.loc['right_detector'] = [size_of_detector,-1,size_of_detector,-size_of_detector-1] #right detector\n",
    "\n",
    "detectors.loc['bottom_detector'] = [0-1,-size_of_detector,size_of_detector-1,-size_of_detector] # bottom detector\n",
    "\n",
    "detectors.loc['left_detector'] = [0,1,0,-size_of_detector+1] #left Detector\n",
    "\n",
    "detectors\n",
    "import matplotlib.patches as patches\n",
    "fig, ax = plt.subplots(figsize=(5,5))\n",
    "\n",
    "top_detector = patches.Rectangle((detectors['xi']['top_detector'], detectors['yi']['top_detector']), \n",
    "                                 detectors['xf']['top_detector']-detectors['xi']['top_detector'], detectors['yf']['top_detector']-detectors['yi']['top_detector'], linewidth=1, edgecolor='r', facecolor='none')\n",
    "ax.add_patch(top_detector)\n",
    "\n",
    "\n",
    "top_detector = patches.Rectangle((detectors['xi']['right_detector'], detectors['yi']['right_detector']), \n",
    "                                 detectors['xf']['right_detector']-detectors['xi']['right_detector'], detectors['yf']['right_detector']-detectors['yi']['right_detector'], linewidth=1, edgecolor='r', facecolor='none')\n",
    "ax.add_patch(top_detector)\n",
    "\n",
    "\n",
    "top_detector = patches.Rectangle((detectors['xi']['bottom_detector'], detectors['yi']['bottom_detector']), \n",
    "                                 detectors['xf']['bottom_detector']-detectors['xi']['bottom_detector'], detectors['yf']['bottom_detector']-detectors['yi']['bottom_detector'], linewidth=1, edgecolor='r', facecolor='none')\n",
    "ax.add_patch(top_detector)\n",
    "\n",
    "\n",
    "top_detector = patches.Rectangle((detectors['xi']['left_detector'], detectors['yi']['left_detector']), \n",
    "                                 detectors['xf']['left_detector']-detectors['xi']['left_detector'], detectors['yf']['left_detector']-detectors['yi']['left_detector'], linewidth=1, edgecolor='r', facecolor='none')\n",
    "ax.add_patch(top_detector)\n",
    "\n",
    "Be = plt.Circle((10,-10),6,fill = False,color = 'blue',label ='Be Rod')\n",
    "ax.add_patch(Be)\n",
    "\n",
    "ax.hlines(-10,10,40,label='theta = 0',color='grey')\n",
    "\n",
    "\n",
    "x = np.arange(0,20,1)\n",
    "theta = 45\n",
    "angles = pd.DataFrame(columns=['theta','detector'])\n",
    "for i in range(0,360):\n",
    "    x_= 20\n",
    "    if detectors['yi']['right_detector']>=((np.tan(i*degree_to_rad)*(x_-10))-10)>= detectors['yf']['right_detector'] and (0<=i<=90) or (270<=i):\n",
    "        angles.loc[i] = [i,'right_detector']\n",
    "    y_ = 0\n",
    "    if detectors['xi']['top_detector']<=((y_-10)/np.tan(i*degree_to_rad))+10<= detectors['xf']['top_detector'] and (0<=i<=180):\n",
    "        angles.loc[i] = [i,'top_detector']\n",
    "    \n",
    "    x_= 0\n",
    "    if detectors['yi']['left_detector']>=((np.tan(i*degree_to_rad)*(x_-10))-10)>= detectors['yf']['left_detector'] and (90<=i<=270):\n",
    "        angles.loc[i] = [i,'left_detector']\n",
    "    y_ = -20\n",
    "    if detectors['xi']['bottom_detector']<=((y_-10)/np.tan(i*degree_to_rad))+10<= detectors['xf']['bottom_detector'] and (180 <= i):\n",
    "        angles.loc[i] = [i,'bottom_detector']\n",
    "    angles.loc[90] = [90,'top_detector']\n",
    "    angles.loc[270] = [270,'bottom_detector']\n",
    "\n",
    "display(angles.loc[angles['theta']==320])\n",
    "\n",
    "ax.set_xlim(-5,25)\n",
    "ax.set_ylim(-25,5)\n",
    "theta = 30\n",
    "#ax.plot(x,(np.tan(theta*degree_to_rad)*(x-10))-10,color = 'orange')\n",
    "plt.legend()\n",
    "plt.show()\n"
   ]
  },
  {
   "cell_type": "code",
   "execution_count": 85,
   "id": "613f7d57-b4b4-4716-9bae-5fd59bbbb250",
   "metadata": {},
   "outputs": [
    {
     "data": {
      "image/png": "[encoded data removed]",
      "text/plain": [
       "<Figure size 500x500 with 1 Axes>"
      ]
     },
     "metadata": {},
     "output_type": "display_data"
    }
   ],
   "source": [
    "number_of_segments = 8\n",
    "center_x = 10.5\n",
    "center_y = 10.5\n",
    "size_of_detector = 20#in mm\n",
    "\n",
    "size_of_segment = size_of_detector/number_of_segments\n",
    "# [xi,yi,xf,yf]\n",
    "\n",
    "detectors = pd.DataFrame(columns = ['xi','yi','xf','yf','segment','loc'])\n",
    "segment = 1\n",
    "while segment <= number_of_segments:\n",
    "    segs = segment - 1\n",
    "    \n",
    "    detectors.loc[segment] = [1+segs*size_of_segment,0,(segs+1)*size_of_segment+1,0, segment,'top'] #top detector\n",
    "    detectors.loc[segment+number_of_segments] = [size_of_detector,-1-segs*size_of_segment,size_of_detector,-(segs+1)*size_of_segment-1,segment+number_of_segments,'right'] #right detector\n",
    "    detectors.loc[segment+2*number_of_segments] = [-1+segs*size_of_segment,-size_of_detector,+(segs+1)*size_of_segment-1,-size_of_detector,segment+2*number_of_segments,'bottom']\n",
    "    detectors.loc[segment+3*number_of_segments] = [0,1-segs*size_of_segment,0,-(segs+1)*size_of_segment+1,segment+3*number_of_segments,'left']\n",
    "    segment += 1\n",
    "    \n",
    "\n",
    "\n",
    "#display(detectors.sort_values('segment'))\n",
    "import matplotlib.patches as patches\n",
    "fig, ax = plt.subplots(figsize=(5,5))\n",
    "\n",
    "for i in range(len(detectors)):\n",
    "    i += 1\n",
    "    x = np.array([detectors['xi'].loc[i],detectors['xf'].loc[i]]).T\n",
    "    y = np.array([detectors['yi'].loc[i],detectors['yf'].loc[i]]).T\n",
    "    ax.plot(x,y,ms=8,markevery=[-1],color='grey')\n",
    "    if detectors['loc'].loc[i] == 'top' or detectors['loc'].loc[i] == 'bottom':\n",
    "        if detectors['loc'].loc[i] == 'top':\n",
    "            ax.annotate(\"|\", xy=(x[0]-0.4, y[0]+0.2))\n",
    "            ax.annotate(\"|\", xy=(x[1]-0.4, y[1]+0.2))\n",
    "            ax.text((x[0]+x[1])/2-0.4,0.6+(y[0]+y[1])/2,f'{i}')\n",
    "        if detectors['loc'].loc[i] == 'bottom':\n",
    "            ax.annotate(\"|\", xy=(x[0]-0.4, y[0]-0.9))\n",
    "            ax.annotate(\"|\", xy=(x[1]-0.4, y[1]-0.9))\n",
    "            ax.text((x[0]+x[1])/2-0.7,(y[0]+y[1])/2-1.4,f'{8-(i-17)+16}')\n",
    "    else:\n",
    "        if detectors['loc'].loc[i] == 'left': \n",
    "            ax.text((x[0]+x[1])/2-1.5,(y[0]+y[1])/2-0.4,f'{8-(i-25)+24}')\n",
    "            ax.annotate(\"__\", xy=(x[0]-1, y[0]+0.1))\n",
    "            ax.annotate(\"__\", xy=(x[1]-1, y[1]+0.1))\n",
    "        if detectors['loc'].loc[i] == 'right': \n",
    "            ax.text((x[0]+x[1])/2+.5,(y[0]+y[1])/2-0.4,f'{i}')\n",
    "            ax.annotate(\"__\", xy=(x[0], y[0]+0.1))\n",
    "            ax.annotate(\"__\", xy=(x[1], y[1]+0.1))\n",
    "Be = plt.Circle((center_x,-center_y),6,fill = False,color = 'blue',label ='Be Rod')\n",
    "ax.add_patch(Be)\n",
    "\n",
    "#ax.hlines(-10,10,40,label='theta = 0',color='grey')\n",
    "\n",
    "\n",
    "x = np.arange(0,20,1)\n",
    "angles = pd.DataFrame(columns=['theta','detector'])\n",
    "'''\n",
    "for i in np.arange(0,360,0.1):\n",
    "    y_= 0\n",
    "    top = detectors['segment'].loc[(detectors['loc'] == 'top' )&( detectors['xi']<((y_+center_y)/np.tan(i*degree_to_rad))+center_x)&((((y_+center_y)/np.tan(i*degree_to_rad))+center_x) <=detectors['xf'])&((0<=i<=180))]\n",
    "    if len(top)==1 :\n",
    "        angles.loc[i] = [i,top.values[0]]\n",
    "    \n",
    "    y_ = -20\n",
    "    bottom = detectors['segment'].loc[(detectors['loc'] == 'bottom' )&( detectors['xi']<((y_+center_y)/np.tan(i*degree_to_rad))+center_x)&((((y_+center_y)/np.tan(i*degree_to_rad))+center_x) <=detectors['xf'])&((180<=i<=360))]\n",
    "    if len(bottom)==1 :\n",
    "        \n",
    "        angles.loc[i] = [i,bottom.values[0]]\n",
    "\n",
    "    x_ = 0\n",
    "    left = detectors['segment'].loc[(detectors['loc'] == 'left' )&( detectors['yi']>(np.tan(i*degree_to_rad)*(x_-10))-center_y) & ((np.tan(i*degree_to_rad)*(x_-center_x))-center_y >=detectors['yf'])&((90<=i<=270))]\n",
    "    if len(left)==1 :\n",
    "        angles.loc[i] = [i,left.values[0]]\n",
    "    x_ = 20\n",
    "    right = detectors['segment'].loc[(detectors['loc'] == 'right' )&( detectors['yi']>(np.tan(i*degree_to_rad)*(x_-10))-center_y) & ((np.tan(i*degree_to_rad)*(x_-center_x))-center_y >=detectors['yf'])& (( i > 270) | (i < 90)) ]\n",
    "    if len(right)==1 :\n",
    "        angles.loc[i] = [i,right.values[0]]\n",
    "'''\n",
    "ax.set_xlim(-5,25)\n",
    "ax.set_ylim(-25,5)\n",
    "ax.set_axis_off()\n",
    "fig.suptitle(\"Detector Column Layout\")\n",
    "ax.set_title(\"The sky is out of the page (screen)\",size=10)\n",
    "theta = 133\n",
    "#ax.plot(x,(np.tan(theta*degree_to_rad)*(x-center_x))-center_y,color = 'orange')\n",
    "#plt.legend()\n",
    "fig.savefig(\"/home/jacob/PixelColumnLayout.png\")\n",
    "plt.show()\n",
    "#display(angles)"
   ]
  },
  {
   "cell_type": "code",
   "execution_count": 9,
   "id": "63aafaf4-bf22-4d64-adf8-53b76ac3cf02",
   "metadata": {},
   "outputs": [
    {
     "name": "stdout",
     "output_type": "stream",
     "text": [
      "173335995\n",
      "Name: tree Title: Tree with row-wise event hit data in CZTs\n"
     ]
    },
    {
     "ename": "KeyboardInterrupt",
     "evalue": "",
     "output_type": "error",
     "traceback": [
      "\u001b[0;31m---------------------------------------------------------------------------\u001b[0m",
      "\u001b[0;31mKeyboardInterrupt\u001b[0m                         Traceback (most recent call last)",
      "Cell \u001b[0;32mIn[9], line 9\u001b[0m\n\u001b[1;32m      7\u001b[0m c \u001b[38;5;241m=\u001b[39m TCanvas(\u001b[38;5;124m\"\u001b[39m\u001b[38;5;124m\"\u001b[39m,\u001b[38;5;124m\"\u001b[39m\u001b[38;5;124m\"\u001b[39m,\u001b[38;5;241m500\u001b[39m,\u001b[38;5;241m500\u001b[39m)\n\u001b[1;32m      8\u001b[0m fHist \u001b[38;5;241m=\u001b[39m r\u001b[38;5;241m.\u001b[39mTH2D(\u001b[38;5;124m\"\u001b[39m\u001b[38;5;124mHistogram\u001b[39m\u001b[38;5;124m\"\u001b[39m, \u001b[38;5;124m\"\u001b[39m\u001b[38;5;124mPSF Location\u001b[39m\u001b[38;5;124m\"\u001b[39m, \u001b[38;5;241m1000\u001b[39m, \u001b[38;5;241m-\u001b[39m\u001b[38;5;241m1.5\u001b[39m, \u001b[38;5;241m1.5\u001b[39m, \u001b[38;5;241m1000\u001b[39m, \u001b[38;5;241m-\u001b[39m\u001b[38;5;241m1.5\u001b[39m, \u001b[38;5;241m1.5\u001b[39m)\n\u001b[0;32m----> 9\u001b[0m \u001b[38;5;28;01mfor\u001b[39;00m event \u001b[38;5;129;01min\u001b[39;00m fTree:\n\u001b[1;32m     10\u001b[0m     fHist\u001b[38;5;241m.\u001b[39mFill(fTree\u001b[38;5;241m.\u001b[39mprimary_x,fTree\u001b[38;5;241m.\u001b[39mprimary_y)\n\u001b[1;32m     11\u001b[0m fHist\u001b[38;5;241m.\u001b[39mSetFillColor(\u001b[38;5;241m7\u001b[39m)\n",
      "File \u001b[0;32m~/rootinstall/lib/ROOT/_pythonization/_ttree.py:143\u001b[0m, in \u001b[0;36m_TTree__iter__\u001b[0;34m(self)\u001b[0m\n\u001b[1;32m    141\u001b[0m     \u001b[38;5;28;01myield\u001b[39;00m \u001b[38;5;28mself\u001b[39m\n\u001b[1;32m    142\u001b[0m     i \u001b[38;5;241m+\u001b[39m\u001b[38;5;241m=\u001b[39m \u001b[38;5;241m1\u001b[39m\n\u001b[0;32m--> 143\u001b[0m     bytes_read \u001b[38;5;241m=\u001b[39m \u001b[38;5;28;43mself\u001b[39;49m\u001b[38;5;241;43m.\u001b[39;49m\u001b[43mGetEntry\u001b[49m\u001b[43m(\u001b[49m\u001b[43mi\u001b[49m\u001b[43m)\u001b[49m\n\u001b[1;32m    145\u001b[0m \u001b[38;5;28;01mif\u001b[39;00m bytes_read \u001b[38;5;241m==\u001b[39m \u001b[38;5;241m-\u001b[39m\u001b[38;5;241m1\u001b[39m:\n\u001b[1;32m    146\u001b[0m     \u001b[38;5;28;01mraise\u001b[39;00m \u001b[38;5;167;01mRuntimeError\u001b[39;00m(\u001b[38;5;124m\"\u001b[39m\u001b[38;5;124mTTree I/O error\u001b[39m\u001b[38;5;124m\"\u001b[39m)\n",
      "\u001b[0;31mKeyboardInterrupt\u001b[0m: "
     ]
    }
   ],
   "source": [
    "fFile = TFile.Open(root_file_path)\n",
    "fTree = fFile.Get(\"tree\")\n",
    "fTree.GetEntries()\n",
    "\n",
    "print(fTree.GetEntries())\n",
    "print(fTree)\n",
    "c = TCanvas(\"\",\"\",500,500)\n",
    "fHist = r.TH2D(\"Histogram\", \"PSF Location\", 1000, -1.5, 1.5, 1000, -1.5, 1.5)\n",
    "for event in fTree:\n",
    "    fHist.Fill(fTree.primary_x,fTree.primary_y)\n",
    "fHist.SetFillColor(7)\n",
    "fHist.Draw('colz')\n",
    "c.Draw('hist')"
   ]
  }
 ],
 "metadata": {
  "kernelspec": {
   "display_name": "Python 3 (ipykernel)",
   "language": "python",
   "name": "python3"
  },
  "language_info": {
   "codemirror_mode": {
    "name": "ipython",
    "version": 3
   },
   "file_extension": ".py",
   "mimetype": "text/x-python",
   "name": "python",
   "nbconvert_exporter": "python",
   "pygments_lexer": "ipython3",
   "version": "3.10.12"
  }
 },
 "nbformat": 4,
 "nbformat_minor": 5
}
